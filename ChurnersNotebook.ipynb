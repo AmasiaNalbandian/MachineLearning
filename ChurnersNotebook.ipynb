{
 "cells": [
  {
   "cell_type": "markdown",
   "metadata": {},
   "source": []
  },
  {
   "cell_type": "markdown",
   "metadata": {},
   "source": [
    "## Bank Churners"
   ]
  },
  {
   "cell_type": "code",
   "execution_count": null,
   "metadata": {},
   "outputs": [],
   "source": [
    "import pandas as pd\n",
    "import numpy as np\n",
    "import matplotlib.pyplot as plt\n",
    "import constants\n",
    "import seaborn as sns\n",
    "from imblearn.under_sampling import RandomUnderSampler\n",
    "from sklearn.model_selection import train_test_split\n",
    "from graphs import plot_learning_curve\n",
    "\n",
    "# Load your dataset (replace 'your_dataset.csv' with the actual file path)\n",
    "data = pd.read_csv('./datasets/BankChurners.csv')\n",
    "\n",
    "# Define the target column and set random_state\n",
    "target_column = 'Attrition_Flag'\n",
    "random_state = constants.RANDOM_STATE\n",
    "test_size = constants.TEST_SIZE\n",
    "\n",
    "# Extract features (X) and target variable (y)\n",
    "\n",
    "# List of categorical columns to keep\n",
    "columns_to_keep = [\"Customer_Age\", \"Gender\", \"Education_Level\", \"Marital_Status\", \"Income_Category\"]\n",
    "\n",
    "# Drop all other categorical columns\n",
    "X = data[columns_to_keep]\n",
    "y = data[target_column]\n",
    "\n",
    "num_entries = data.shape[0]\n",
    "print(\"Number of entries:\", num_entries)\n",
    "num_features = X.shape[1]\n",
    "print(\"Number of features:\", num_features)\n",
    "\n",
    "# Encode categorical features using one-hot encoding\n",
    "categorical_cols = [\"Gender\", \"Education_Level\", \"Marital_Status\", \"Income_Category\"]\n",
    "X_encoded = pd.get_dummies(X, columns=categorical_cols, drop_first=True)\n",
    "\n",
    "# Perform undersampling\n",
    "undersampler = RandomUnderSampler(sampling_strategy='majority', random_state=random_state)\n",
    "X_resampled, y_resampled = undersampler.fit_resample(X_encoded, y)\n",
    "\n",
    "sns.countplot(data=pd.DataFrame({'Attrition_Flag': y_resampled}), x='Attrition_Flag')\n",
    "plt.xlabel('Attrition_Flag')\n",
    "plt.ylabel('Count')\n",
    "plt.title('Attrition Flag Counts (After Undersampling)')\n",
    "plt.show()\n",
    "\n",
    "counts = pd.Series(y_resampled).value_counts()\n",
    "\n",
    "# Now 'counts' contains the counts of each category ('Existing Customer' and 'Attrited Customer')\n",
    "print(counts)\n",
    "\n",
    "# Split data into training and testing sets\n",
    "X_train, X_test, y_train, y_test = train_test_split(X_resampled, y_resampled, test_size=test_size, random_state=random_state)\n"
   ]
  },
  {
   "cell_type": "markdown",
   "metadata": {},
   "source": [
    "### Decision Trees"
   ]
  },
  {
   "cell_type": "code",
   "execution_count": null,
   "metadata": {},
   "outputs": [],
   "source": [
    "from dt import dt\n",
    "best_dt_model, best_dt_params = dt(X_train, X_test, y_train, y_test, constants.CV)"
   ]
  },
  {
   "cell_type": "code",
   "execution_count": null,
   "metadata": {},
   "outputs": [],
   "source": [
    "from graphs import plot_learning_curve\n",
    "plot_learning_curve(best_dt_model, X_train, y_train, cv=constants.CV, scoring='accuracy', title=\"Decision Tree Learning Curve\")"
   ]
  },
  {
   "cell_type": "markdown",
   "metadata": {},
   "source": [
    "### Neural Networks"
   ]
  },
  {
   "cell_type": "code",
   "execution_count": null,
   "metadata": {},
   "outputs": [],
   "source": [
    "from nn import nn\n",
    "best_nn_model, best_nn_params = nn(X_train, X_test, y_train, y_test, constants.CV)"
   ]
  },
  {
   "cell_type": "code",
   "execution_count": null,
   "metadata": {},
   "outputs": [],
   "source": [
    "\n",
    "plot_learning_curve(best_nn_model, X_train, y_train, cv=constants.CV, scoring='accuracy', title=\"Decision Tree Learning Curve\")"
   ]
  }
 ],
 "metadata": {
  "kernelspec": {
   "display_name": "Python 3",
   "language": "python",
   "name": "python3"
  },
  "language_info": {
   "codemirror_mode": {
    "name": "ipython",
    "version": 3
   },
   "file_extension": ".py",
   "mimetype": "text/x-python",
   "name": "python",
   "nbconvert_exporter": "python",
   "pygments_lexer": "ipython3",
   "version": "3.11.5"
  },
  "orig_nbformat": 4
 },
 "nbformat": 4,
 "nbformat_minor": 2
}
