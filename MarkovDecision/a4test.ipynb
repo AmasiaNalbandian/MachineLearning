{
 "cells": [
  {
   "cell_type": "code",
   "execution_count": 11,
   "metadata": {},
   "outputs": [
    {
     "name": "stdout",
     "output_type": "stream",
     "text": [
      "(1, 2, 2, 2, 1, 2, 1, 1, 3, 2, 2, 1, 0, 2, 2, 0)\n"
     ]
    }
   ],
   "source": [
    "# import gym\n",
    "import gymnasium as gym\n",
    "from gymnasium.envs.toy_text.frozen_lake import generate_random_map\n",
    "import numpy as np\n",
    "from mdptoolbox import mdp\n",
    "\n",
    "env = gym.make(\n",
    "    \"FrozenLake-v1\",\n",
    "    is_slippery=True,\n",
    "    render_mode=\"rgb_array\",\n",
    "    desc=generate_random_map(\n",
    "        size=16, p=0.85, seed=26\n",
    "    ),\n",
    ")\n",
    "# Reset the environment to get the initial state\n",
    "env.reset()\n",
    "\n",
    "# Render the environment to see its current state\n",
    "env.render()\n",
    "\n",
    "n_states = env.observation_space.n\n",
    "n_actions = env.action_space.n\n",
    "P = np.zeros([n_actions, n_states, n_states])\n",
    "R = np.zeros([n_states, n_actions])\n",
    "\n",
    "for state in range(n_states):\n",
    "    for action in range(n_actions):\n",
    "        transitions = env.P[state][action]\n",
    "        for trans_prob, next_state, reward, done in transitions:\n",
    "            P[action, state, next_state] += trans_prob\n",
    "            if not done or reward == 1:  # Include reward for non-terminal states\n",
    "                R[state, action] += reward * trans_prob\n",
    "\n",
    "for action in range(n_actions):\n",
    "    P[action] /= P[action].sum(axis=1, keepdims=True)\n",
    "\n",
    "\n",
    "vi = mdp.ValueIteration(P, R, 0.9)\n",
    "vi.run()\n",
    "\n",
    "optimal_policy = vi.policy\n",
    "print(optimal_policy)\n"
   ]
  },
  {
   "cell_type": "code",
   "execution_count": null,
   "metadata": {},
   "outputs": [],
   "source": []
  }
 ],
 "metadata": {
  "kernelspec": {
   "display_name": "Python 3",
   "language": "python",
   "name": "python3"
  },
  "language_info": {
   "codemirror_mode": {
    "name": "ipython",
    "version": 3
   },
   "file_extension": ".py",
   "mimetype": "text/x-python",
   "name": "python",
   "nbconvert_exporter": "python",
   "pygments_lexer": "ipython3",
   "version": "3.11.5"
  },
  "orig_nbformat": 4
 },
 "nbformat": 4,
 "nbformat_minor": 2
}
