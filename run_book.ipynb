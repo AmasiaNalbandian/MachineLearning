{
 "cells": [
  {
   "cell_type": "code",
   "execution_count": 1,
   "id": "fd8ae76c",
   "metadata": {},
   "outputs": [
    {
     "name": "stdout",
     "output_type": "stream",
     "text": [
      "     gender  race/ethnicity  parental level of education  lunch  \\\n",
      "0         0               1                            1      1   \n",
      "1         0               2                            4      1   \n",
      "2         0               1                            3      1   \n",
      "3         1               0                            0      0   \n",
      "4         1               2                            4      1   \n",
      "..      ...             ...                          ...    ...   \n",
      "995       0               4                            3      1   \n",
      "996       1               2                            2      0   \n",
      "997       0               2                            2      0   \n",
      "998       0               3                            4      1   \n",
      "999       0               3                            4      0   \n",
      "\n",
      "     test preparation course  math_score  reading_score  writing_score  \n",
      "0                          1    0.390024       0.193999       0.391492  \n",
      "1                          0    0.192076       1.427476       1.313269  \n",
      "2                          1    1.577711       1.770109       1.642475  \n",
      "3                          1   -1.259543      -0.833899      -1.583744  \n",
      "4                          1    0.653954       0.605158       0.457333  \n",
      "..                       ...         ...            ...            ...  \n",
      "995                        0    1.445746       2.044215       1.774157  \n",
      "996                        1   -0.269803      -0.970952      -0.859491  \n",
      "997                        0   -0.467751       0.125472      -0.201079  \n",
      "998                        0    0.126093       0.605158       0.589015  \n",
      "999                        1    0.719937       1.153370       1.181586  \n",
      "\n",
      "[1000 rows x 8 columns] 0      72.666667\n",
      "1      82.333333\n",
      "2      92.666667\n",
      "3      49.333333\n",
      "4      76.333333\n",
      "         ...    \n",
      "995    94.000000\n",
      "996    57.333333\n",
      "997    65.000000\n",
      "998    74.333333\n",
      "999    83.000000\n",
      "Name: score_total, Length: 1000, dtype: float64\n",
      "Mean Squared Error: 3.629444445155556\n",
      "Mean Absolute Error: 1.15833333345\n",
      "RMSE: 1.905110087411107\n",
      "r2:  0.9830689808511862\n",
      "EVS: 0.9830736587157415\n",
      "MAPE:  2.6711836285135124\n",
      "MedAE:  0.6666666699999979\n",
      "end of run\n"
     ]
    }
   ],
   "source": [
    "from data_extraction import get_dataset\n",
    "from decision_trees import run_dt\n",
    "X, y = get_dataset()\n",
    "\n",
    "# print(X, y)\n",
    "run_dt(X, y)\n",
    "print(\"end of run\")"
   ]
  },
  {
   "cell_type": "code",
   "execution_count": 3,
   "id": "034c84fe",
   "metadata": {},
   "outputs": [],
   "source": [
    "%autoreload 2\n"
   ]
  },
  {
   "cell_type": "code",
   "execution_count": 1,
   "id": "4c8b43e6-fdfb-43a2-9d5c-515775aff13c",
   "metadata": {},
   "outputs": [
    {
     "name": "stdout",
     "output_type": "stream",
     "text": [
      "Accuracy: 1.0\n",
      "end of run\n"
     ]
    }
   ],
   "source": [
    "from decision_trees import run_dt\n",
    "from sklearn.datasets import load_iris\n",
    "\n",
    "data = load_iris()\n",
    "run_dt(data)\n",
    "print(\"end of run\")\n",
    "\n"
   ]
  },
  {
   "cell_type": "code",
   "execution_count": null,
   "id": "2ebd9de5-d8cf-42e3-8b67-193e6d391f44",
   "metadata": {},
   "outputs": [],
   "source": []
  }
 ],
 "metadata": {
  "kernelspec": {
   "display_name": "Python 3 (ipykernel)",
   "language": "python",
   "name": "python3"
  },
  "language_info": {
   "codemirror_mode": {
    "name": "ipython",
    "version": 3
   },
   "file_extension": ".py",
   "mimetype": "text/x-python",
   "name": "python",
   "nbconvert_exporter": "python",
   "pygments_lexer": "ipython3",
   "version": "3.9.8"
  }
 },
 "nbformat": 4,
 "nbformat_minor": 5
}
