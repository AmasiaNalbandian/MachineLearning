{
 "cells": [
  {
   "cell_type": "markdown",
   "metadata": {},
   "source": [
    "### Chess Games\n",
    "To begin, we need to prepare the data that is readily available for us in `games.csv`. There are 6 columns that will be kept which are turns, white_rating, black_rating, rated, winner and first_move. From all of these columns, we will have to parse the moves column to receive the first_move and then use one hot encoding to successfully run our algorithms on the categorical data. "
   ]
  },
  {
   "cell_type": "code",
   "execution_count": 1,
   "metadata": {},
   "outputs": [
    {
     "name": "stdout",
     "output_type": "stream",
     "text": [
      "Number of entries: 18132\n",
      "Number of features: 6\n",
      "   turns  white_rating  black_rating  rated winner  first_move_Nc3  \\\n",
      "1     16          1322          1261   True  black           False   \n",
      "2     61          1496          1500   True  white           False   \n",
      "3     61          1439          1454   True  white           False   \n",
      "4     95          1523          1469   True  white           False   \n",
      "6     33          1520          1423   True  white           False   \n",
      "8     66          1439          1392   True  black           False   \n",
      "9    119          1381          1209   True  white           False   \n",
      "\n",
      "   first_move_Nf3  first_move_Nh3  first_move_a3  first_move_a4  ...  \\\n",
      "1           False           False          False          False  ...   \n",
      "2           False           False          False          False  ...   \n",
      "3           False           False          False          False  ...   \n",
      "4           False           False          False          False  ...   \n",
      "6           False           False          False          False  ...   \n",
      "8           False           False          False          False  ...   \n",
      "9           False           False          False          False  ...   \n",
      "\n",
      "   first_move_d3  first_move_d4  first_move_e3  first_move_e4  first_move_f3  \\\n",
      "1          False           True          False          False          False   \n",
      "2          False          False          False           True          False   \n",
      "3          False           True          False          False          False   \n",
      "4          False          False          False           True          False   \n",
      "6          False           True          False          False          False   \n",
      "8          False          False          False           True          False   \n",
      "9          False          False          False           True          False   \n",
      "\n",
      "   first_move_f4  first_move_g3  first_move_g4  first_move_h3  first_move_h4  \n",
      "1          False          False          False          False          False  \n",
      "2          False          False          False          False          False  \n",
      "3          False          False          False          False          False  \n",
      "4          False          False          False          False          False  \n",
      "6          False          False          False          False          False  \n",
      "8          False          False          False          False          False  \n",
      "9          False          False          False          False          False  \n",
      "\n",
      "[7 rows x 24 columns]\n",
      "counts winner\n",
      "white    9452\n",
      "black    8680\n",
      "Name: count, dtype: int64\n"
     ]
    },
    {
     "name": "stderr",
     "output_type": "stream",
     "text": [
      "/Library/Frameworks/Python.framework/Versions/3.11/lib/python3.11/site-packages/seaborn/_oldcore.py:1498: FutureWarning: is_categorical_dtype is deprecated and will be removed in a future version. Use isinstance(dtype, CategoricalDtype) instead\n",
      "  if pd.api.types.is_categorical_dtype(vector):\n",
      "/Library/Frameworks/Python.framework/Versions/3.11/lib/python3.11/site-packages/seaborn/_oldcore.py:1498: FutureWarning: is_categorical_dtype is deprecated and will be removed in a future version. Use isinstance(dtype, CategoricalDtype) instead\n",
      "  if pd.api.types.is_categorical_dtype(vector):\n",
      "/Library/Frameworks/Python.framework/Versions/3.11/lib/python3.11/site-packages/seaborn/_oldcore.py:1498: FutureWarning: is_categorical_dtype is deprecated and will be removed in a future version. Use isinstance(dtype, CategoricalDtype) instead\n",
      "  if pd.api.types.is_categorical_dtype(vector):\n"
     ]
    },
    {
     "data": {
      "image/png": "[encoded data removed]",
      "text/plain": [
       "<Figure size 640x480 with 1 Axes>"
      ]
     },
     "metadata": {},
     "output_type": "display_data"
    }
   ],
   "source": [
    "import pandas as pd\n",
    "import seaborn as sns\n",
    "import matplotlib.pyplot as plt\n",
    "import pandas as pd\n",
    "from sklearn.model_selection import train_test_split\n",
    "import constants\n",
    "# Load your dataset\n",
    "d = pd.read_csv('./datasets/games.csv')\n",
    "# filtered_data = d[(d['turns'] >= 15) | (d['victory_status'] != 'draw') | (d['winner'] != 'draw')].copy()# Use .copy() to ensure you are working on a copy\n",
    "filtered_data = d[(d['turns'] >= 15) & (d['winner'] != 'draw')].copy()\n",
    "\n",
    "# Define the target column and set random_state\n",
    "target_column = 'winner'\n",
    "\n",
    "# parse out the first move\n",
    "filtered_data['moves'] = filtered_data['moves'].str.split()\n",
    "filtered_data['first_move'] = filtered_data['moves'].str[0]\n",
    "# filtered_data['second_move'] = filtered_data['moves'].str[1] #TODO: If I want to include the second move\n",
    "\n",
    "# List the columns to keep - and drop the rest \n",
    "columns_to_keep = [\"turns\", \"white_rating\", \"black_rating\", \"rated\", \"winner\", \"first_move\"]\n",
    "data = filtered_data[columns_to_keep]\n",
    "\n",
    "# Create one-hot encoding for the \"first_move\" column, and drop the first_move column\n",
    "one_hot_encoded = pd.get_dummies(data['first_move'], prefix='first_move', drop_first=True)\n",
    "data_encoded = pd.concat([data, one_hot_encoded], axis=1)\n",
    "data_encoded = data_encoded.drop(columns=['first_move'])\n",
    "\n",
    "# Set the X and y for the data \n",
    "X = data_encoded.drop(columns=[target_column])\n",
    "y = data_encoded[target_column]\n",
    "\n",
    "# Print out data and stats to ensure correct\n",
    "num_entries = data.shape[0]\n",
    "print(\"Number of entries:\", num_entries)\n",
    "num_features = data.shape[1]\n",
    "print(\"Number of features:\", num_features)\n",
    "print(data_encoded.head(7))\n",
    "counts = data_encoded['winner'].value_counts()\n",
    "print(\"counts\", counts)\n",
    "sns.countplot(data=data_encoded, x='winner')\n",
    "plt.xlabel('Winner')\n",
    "plt.ylabel('Count')\n",
    "plt.title('Games Won by Black vs. White')\n",
    "plt.show()"
   ]
  },
  {
   "cell_type": "markdown",
   "metadata": {},
   "source": [
    "Next we must split the data into the training and tests set. "
   ]
  },
  {
   "cell_type": "code",
   "execution_count": 2,
   "metadata": {},
   "outputs": [],
   "source": [
    "# Split data into training and testing sets\n",
    "X_train, X_test, y_train, y_test = train_test_split(X, y, test_size=constants.TEST_SIZE, random_state=constants.RANDOM_STATE)"
   ]
  },
  {
   "cell_type": "markdown",
   "metadata": {},
   "source": []
  },
  {
   "cell_type": "markdown",
   "metadata": {},
   "source": [
    "### Decision Tree\n",
    "Train using the values for a decision tree, and then plot the learning curve using the cross validation value set globally."
   ]
  },
  {
   "cell_type": "code",
   "execution_count": null,
   "metadata": {},
   "outputs": [],
   "source": [
    "from dt import dt\n",
    "best_dt_model, best_dt_params = dt(X_train, X_test, y_train, y_test, constants.CV)\n"
   ]
  },
  {
   "cell_type": "code",
   "execution_count": null,
   "metadata": {},
   "outputs": [],
   "source": [
    "from graphs import plot_learning_curve\n",
    "plot_learning_curve(best_dt_model, X_train, y_train, cv=constants.CV, scoring='accuracy', title=\"Decision Tree Learning Curve\")"
   ]
  },
  {
   "cell_type": "markdown",
   "metadata": {},
   "source": [
    "### Neural Networks"
   ]
  },
  {
   "cell_type": "code",
   "execution_count": null,
   "metadata": {},
   "outputs": [],
   "source": [
    "from nn import nn\n",
    "best_nn_model, best_nn_params = nn(X_train, X_test, y_train, y_test, constants.CV)"
   ]
  },
  {
   "cell_type": "code",
   "execution_count": null,
   "metadata": {},
   "outputs": [],
   "source": [
    "plot_learning_curve(best_nn_model, X_train, y_train, cv=constants.CV, scoring='accuracy', title=\"Decision Tree Learning Curve\")"
   ]
  },
  {
   "cell_type": "markdown",
   "metadata": {},
   "source": [
    "### K-Nearest Neighbors"
   ]
  },
  {
   "cell_type": "code",
   "execution_count": null,
   "metadata": {},
   "outputs": [],
   "source": [
    "from knn import knn\n",
    "best_knn_model, best_knn_params = knn(X_train, X_test, y_train, y_test, constants.CV)"
   ]
  },
  {
   "cell_type": "code",
   "execution_count": null,
   "metadata": {},
   "outputs": [],
   "source": [
    "from graphs import plot_learning_curve\n",
    "plot_learning_curve(best_knn_model, X_train, y_train, cv=constants.CV, scoring='accuracy', title=\"K-NN Learning Curve\")"
   ]
  },
  {
   "cell_type": "markdown",
   "metadata": {},
   "source": [
    "### Boosted Decision Tree Classifier"
   ]
  },
  {
   "cell_type": "code",
   "execution_count": null,
   "metadata": {},
   "outputs": [],
   "source": [
    "from dt import ada_boosted_dt\n",
    "best_bdt_model, best_bdt_params = ada_boosted_dt(X_train, X_test, y_train, y_test, constants.CV)\n"
   ]
  },
  {
   "cell_type": "code",
   "execution_count": null,
   "metadata": {},
   "outputs": [],
   "source": [
    "from graphs import plot_learning_curve\n",
    "plot_learning_curve(best_bdt_model, X_train, y_train, cv=constants.CV, scoring='accuracy', title=\"Decision Tree with Ada Boosting Learning Curve\")"
   ]
  },
  {
   "cell_type": "markdown",
   "metadata": {},
   "source": [
    "### Support Vector Machine\n"
   ]
  },
  {
   "cell_type": "code",
   "execution_count": 6,
   "metadata": {},
   "outputs": [],
   "source": [
    "from svm import svm\n",
    "from sklearn.preprocessing import StandardScaler\n",
    "\n",
    "# We need to scale the data before we pass it to the SVM\n",
    "scaler = StandardScaler()\n",
    "X_train_scaled = scaler.fit_transform(X_train)\n",
    "X_test_scaled = scaler.transform(X_test)\n",
    "\n",
    "# Pass the scaled data to the svm\n",
    "best_svm_model, best_svm_params = svm(X_train_scaled, X_test_scaled, y_train, y_test, constants.CV)\n"
   ]
  },
  {
   "cell_type": "code",
   "execution_count": null,
   "metadata": {},
   "outputs": [],
   "source": [
    "from graphs import plot_learning_curve\n",
    "plot_learning_curve(best_svm_model, X_train_scaled, y_train, cv=constants.CV, scoring='accuracy', title=\"SVM Learning Curve\")"
   ]
  }
 ],
 "metadata": {
  "kernelspec": {
   "display_name": "Python 3",
   "language": "python",
   "name": "python3"
  },
  "language_info": {
   "codemirror_mode": {
    "name": "ipython",
    "version": 3
   },
   "file_extension": ".py",
   "mimetype": "text/x-python",
   "name": "python",
   "nbconvert_exporter": "python",
   "pygments_lexer": "ipython3",
   "version": "3.11.5"
  },
  "orig_nbformat": 4
 },
 "nbformat": 4,
 "nbformat_minor": 2
}
